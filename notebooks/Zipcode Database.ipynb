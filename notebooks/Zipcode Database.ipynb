{
 "cells": [
  {
   "cell_type": "code",
   "execution_count": 3,
   "metadata": {},
   "outputs": [],
   "source": [
    "import pandas as pd"
   ]
  },
  {
   "cell_type": "code",
   "execution_count": 34,
   "metadata": {},
   "outputs": [],
   "source": [
    "zipcode_df = pd.read_csv('../corona-dashboard-server/data/zipcode.csv') "
   ]
  },
  {
   "cell_type": "code",
   "execution_count": 35,
   "metadata": {},
   "outputs": [
    {
     "data": {
      "text/html": [
       "<div>\n",
       "<style scoped>\n",
       "    .dataframe tbody tr th:only-of-type {\n",
       "        vertical-align: middle;\n",
       "    }\n",
       "\n",
       "    .dataframe tbody tr th {\n",
       "        vertical-align: top;\n",
       "    }\n",
       "\n",
       "    .dataframe thead th {\n",
       "        text-align: right;\n",
       "    }\n",
       "</style>\n",
       "<table border=\"1\" class=\"dataframe\">\n",
       "  <thead>\n",
       "    <tr style=\"text-align: right;\">\n",
       "      <th></th>\n",
       "      <th>zip</th>\n",
       "      <th>type</th>\n",
       "      <th>decommissioned</th>\n",
       "      <th>primary_city</th>\n",
       "      <th>acceptable_cities</th>\n",
       "      <th>unacceptable_cities</th>\n",
       "      <th>state</th>\n",
       "      <th>county</th>\n",
       "      <th>timezone</th>\n",
       "      <th>area_codes</th>\n",
       "      <th>world_region</th>\n",
       "      <th>country</th>\n",
       "      <th>latitude</th>\n",
       "      <th>longitude</th>\n",
       "      <th>irs_estimated_population_2015</th>\n",
       "    </tr>\n",
       "  </thead>\n",
       "  <tbody>\n",
       "    <tr>\n",
       "      <th>0</th>\n",
       "      <td>501</td>\n",
       "      <td>UNIQUE</td>\n",
       "      <td>0</td>\n",
       "      <td>Holtsville</td>\n",
       "      <td>NaN</td>\n",
       "      <td>I R S Service Center</td>\n",
       "      <td>NY</td>\n",
       "      <td>Suffolk County</td>\n",
       "      <td>America/New_York</td>\n",
       "      <td>631</td>\n",
       "      <td>NaN</td>\n",
       "      <td>US</td>\n",
       "      <td>40.81</td>\n",
       "      <td>-73.04</td>\n",
       "      <td>562</td>\n",
       "    </tr>\n",
       "    <tr>\n",
       "      <th>1</th>\n",
       "      <td>544</td>\n",
       "      <td>UNIQUE</td>\n",
       "      <td>0</td>\n",
       "      <td>Holtsville</td>\n",
       "      <td>NaN</td>\n",
       "      <td>Irs Service Center</td>\n",
       "      <td>NY</td>\n",
       "      <td>Suffolk County</td>\n",
       "      <td>America/New_York</td>\n",
       "      <td>631</td>\n",
       "      <td>NaN</td>\n",
       "      <td>US</td>\n",
       "      <td>40.81</td>\n",
       "      <td>-73.04</td>\n",
       "      <td>0</td>\n",
       "    </tr>\n",
       "    <tr>\n",
       "      <th>2</th>\n",
       "      <td>601</td>\n",
       "      <td>STANDARD</td>\n",
       "      <td>0</td>\n",
       "      <td>Adjuntas</td>\n",
       "      <td>NaN</td>\n",
       "      <td>Colinas Del Gigante, Jard De Adjuntas, Urb San...</td>\n",
       "      <td>PR</td>\n",
       "      <td>Adjuntas Municipio</td>\n",
       "      <td>America/Puerto_Rico</td>\n",
       "      <td>787,939</td>\n",
       "      <td>NaN</td>\n",
       "      <td>US</td>\n",
       "      <td>18.16</td>\n",
       "      <td>-66.72</td>\n",
       "      <td>0</td>\n",
       "    </tr>\n",
       "    <tr>\n",
       "      <th>3</th>\n",
       "      <td>602</td>\n",
       "      <td>STANDARD</td>\n",
       "      <td>0</td>\n",
       "      <td>Aguada</td>\n",
       "      <td>NaN</td>\n",
       "      <td>Alts De Aguada, Bo Guaniquilla, Comunidad Las ...</td>\n",
       "      <td>PR</td>\n",
       "      <td>Aguada Municipio</td>\n",
       "      <td>America/Puerto_Rico</td>\n",
       "      <td>787,939</td>\n",
       "      <td>NaN</td>\n",
       "      <td>US</td>\n",
       "      <td>18.38</td>\n",
       "      <td>-67.18</td>\n",
       "      <td>0</td>\n",
       "    </tr>\n",
       "    <tr>\n",
       "      <th>4</th>\n",
       "      <td>603</td>\n",
       "      <td>STANDARD</td>\n",
       "      <td>0</td>\n",
       "      <td>Aguadilla</td>\n",
       "      <td>Ramey</td>\n",
       "      <td>Bda Caban, Bda Esteves, Bo Borinquen, Bo Ceiba...</td>\n",
       "      <td>PR</td>\n",
       "      <td>Aguadilla Municipio</td>\n",
       "      <td>America/Puerto_Rico</td>\n",
       "      <td>787</td>\n",
       "      <td>NaN</td>\n",
       "      <td>US</td>\n",
       "      <td>18.43</td>\n",
       "      <td>-67.15</td>\n",
       "      <td>0</td>\n",
       "    </tr>\n",
       "  </tbody>\n",
       "</table>\n",
       "</div>"
      ],
      "text/plain": [
       "   zip      type  decommissioned primary_city acceptable_cities  \\\n",
       "0  501    UNIQUE               0   Holtsville               NaN   \n",
       "1  544    UNIQUE               0   Holtsville               NaN   \n",
       "2  601  STANDARD               0     Adjuntas               NaN   \n",
       "3  602  STANDARD               0       Aguada               NaN   \n",
       "4  603  STANDARD               0    Aguadilla             Ramey   \n",
       "\n",
       "                                 unacceptable_cities state  \\\n",
       "0                               I R S Service Center    NY   \n",
       "1                                 Irs Service Center    NY   \n",
       "2  Colinas Del Gigante, Jard De Adjuntas, Urb San...    PR   \n",
       "3  Alts De Aguada, Bo Guaniquilla, Comunidad Las ...    PR   \n",
       "4  Bda Caban, Bda Esteves, Bo Borinquen, Bo Ceiba...    PR   \n",
       "\n",
       "                county             timezone area_codes world_region country  \\\n",
       "0       Suffolk County     America/New_York        631          NaN      US   \n",
       "1       Suffolk County     America/New_York        631          NaN      US   \n",
       "2   Adjuntas Municipio  America/Puerto_Rico    787,939          NaN      US   \n",
       "3     Aguada Municipio  America/Puerto_Rico    787,939          NaN      US   \n",
       "4  Aguadilla Municipio  America/Puerto_Rico        787          NaN      US   \n",
       "\n",
       "   latitude  longitude  irs_estimated_population_2015  \n",
       "0     40.81     -73.04                            562  \n",
       "1     40.81     -73.04                              0  \n",
       "2     18.16     -66.72                              0  \n",
       "3     18.38     -67.18                              0  \n",
       "4     18.43     -67.15                              0  "
      ]
     },
     "execution_count": 35,
     "metadata": {},
     "output_type": "execute_result"
    }
   ],
   "source": [
    "zipcode_df.head()"
   ]
  },
  {
   "cell_type": "code",
   "execution_count": 36,
   "metadata": {},
   "outputs": [],
   "source": [
    "zipcode_df = zipcode_df.loc[zipcode_df['state'] == 'CA'][['zip','primary_city','state','county']]"
   ]
  },
  {
   "cell_type": "code",
   "execution_count": 37,
   "metadata": {},
   "outputs": [
    {
     "data": {
      "text/html": [
       "<div>\n",
       "<style scoped>\n",
       "    .dataframe tbody tr th:only-of-type {\n",
       "        vertical-align: middle;\n",
       "    }\n",
       "\n",
       "    .dataframe tbody tr th {\n",
       "        vertical-align: top;\n",
       "    }\n",
       "\n",
       "    .dataframe thead th {\n",
       "        text-align: right;\n",
       "    }\n",
       "</style>\n",
       "<table border=\"1\" class=\"dataframe\">\n",
       "  <thead>\n",
       "    <tr style=\"text-align: right;\">\n",
       "      <th></th>\n",
       "      <th>zip</th>\n",
       "      <th>primary_city</th>\n",
       "      <th>state</th>\n",
       "      <th>county</th>\n",
       "    </tr>\n",
       "  </thead>\n",
       "  <tbody>\n",
       "    <tr>\n",
       "      <th>40766</th>\n",
       "      <td>96157</td>\n",
       "      <td>South Lake Tahoe</td>\n",
       "      <td>CA</td>\n",
       "      <td>El Dorado County</td>\n",
       "    </tr>\n",
       "    <tr>\n",
       "      <th>40767</th>\n",
       "      <td>96158</td>\n",
       "      <td>South Lake Tahoe</td>\n",
       "      <td>CA</td>\n",
       "      <td>El Dorado County</td>\n",
       "    </tr>\n",
       "    <tr>\n",
       "      <th>40768</th>\n",
       "      <td>96160</td>\n",
       "      <td>Truckee</td>\n",
       "      <td>CA</td>\n",
       "      <td>Nevada County</td>\n",
       "    </tr>\n",
       "    <tr>\n",
       "      <th>40769</th>\n",
       "      <td>96161</td>\n",
       "      <td>Truckee</td>\n",
       "      <td>CA</td>\n",
       "      <td>Nevada County</td>\n",
       "    </tr>\n",
       "    <tr>\n",
       "      <th>40770</th>\n",
       "      <td>96162</td>\n",
       "      <td>Truckee</td>\n",
       "      <td>CA</td>\n",
       "      <td>Placer County</td>\n",
       "    </tr>\n",
       "  </tbody>\n",
       "</table>\n",
       "</div>"
      ],
      "text/plain": [
       "         zip      primary_city state            county\n",
       "40766  96157  South Lake Tahoe    CA  El Dorado County\n",
       "40767  96158  South Lake Tahoe    CA  El Dorado County\n",
       "40768  96160           Truckee    CA     Nevada County\n",
       "40769  96161           Truckee    CA     Nevada County\n",
       "40770  96162           Truckee    CA     Placer County"
      ]
     },
     "execution_count": 37,
     "metadata": {},
     "output_type": "execute_result"
    }
   ],
   "source": [
    "zipcode_df.tail()"
   ]
  },
  {
   "cell_type": "code",
   "execution_count": 38,
   "metadata": {},
   "outputs": [],
   "source": [
    "import pymysql"
   ]
  },
  {
   "cell_type": "code",
   "execution_count": 39,
   "metadata": {},
   "outputs": [],
   "source": [
    "db = pymysql.connect(\"localhost\",\"root\",\"4.0Stanford\",\"corona\" )"
   ]
  },
  {
   "cell_type": "code",
   "execution_count": 40,
   "metadata": {},
   "outputs": [],
   "source": [
    "cursor = db.cursor()"
   ]
  },
  {
   "cell_type": "code",
   "execution_count": 41,
   "metadata": {},
   "outputs": [
    {
     "data": {
      "text/plain": [
       "1"
      ]
     },
     "execution_count": 41,
     "metadata": {},
     "output_type": "execute_result"
    }
   ],
   "source": [
    "cursor.execute(\"SELECT VERSION()\")"
   ]
  },
  {
   "cell_type": "code",
   "execution_count": 42,
   "metadata": {},
   "outputs": [
    {
     "data": {
      "text/plain": [
       "False"
      ]
     },
     "execution_count": 42,
     "metadata": {},
     "output_type": "execute_result"
    }
   ],
   "source": [
    "zipcode_df.isnull().values.any()"
   ]
  },
  {
   "cell_type": "code",
   "execution_count": 43,
   "metadata": {},
   "outputs": [
    {
     "data": {
      "text/plain": [
       "0"
      ]
     },
     "execution_count": 43,
     "metadata": {},
     "output_type": "execute_result"
    }
   ],
   "source": [
    "zipcode_df.isnull().sum().sum()"
   ]
  },
  {
   "cell_type": "code",
   "execution_count": 44,
   "metadata": {},
   "outputs": [
    {
     "data": {
      "text/plain": [
       "False"
      ]
     },
     "execution_count": 44,
     "metadata": {},
     "output_type": "execute_result"
    }
   ],
   "source": [
    "zipcode_df['county'].isnull().values.any()"
   ]
  },
  {
   "cell_type": "code",
   "execution_count": 45,
   "metadata": {},
   "outputs": [
    {
     "data": {
      "text/html": [
       "<div>\n",
       "<style scoped>\n",
       "    .dataframe tbody tr th:only-of-type {\n",
       "        vertical-align: middle;\n",
       "    }\n",
       "\n",
       "    .dataframe tbody tr th {\n",
       "        vertical-align: top;\n",
       "    }\n",
       "\n",
       "    .dataframe thead th {\n",
       "        text-align: right;\n",
       "    }\n",
       "</style>\n",
       "<table border=\"1\" class=\"dataframe\">\n",
       "  <thead>\n",
       "    <tr style=\"text-align: right;\">\n",
       "      <th></th>\n",
       "      <th>zip</th>\n",
       "      <th>primary_city</th>\n",
       "      <th>state</th>\n",
       "      <th>county</th>\n",
       "    </tr>\n",
       "  </thead>\n",
       "  <tbody>\n",
       "  </tbody>\n",
       "</table>\n",
       "</div>"
      ],
      "text/plain": [
       "Empty DataFrame\n",
       "Columns: [zip, primary_city, state, county]\n",
       "Index: []"
      ]
     },
     "execution_count": 45,
     "metadata": {},
     "output_type": "execute_result"
    }
   ],
   "source": [
    "zipcode_df[zipcode_df.isnull().any(axis=1)]"
   ]
  },
  {
   "cell_type": "code",
   "execution_count": null,
   "metadata": {},
   "outputs": [],
   "source": []
  }
 ],
 "metadata": {
  "kernelspec": {
   "display_name": "Python 3",
   "language": "python",
   "name": "python3"
  },
  "language_info": {
   "codemirror_mode": {
    "name": "ipython",
    "version": 3
   },
   "file_extension": ".py",
   "mimetype": "text/x-python",
   "name": "python",
   "nbconvert_exporter": "python",
   "pygments_lexer": "ipython3",
   "version": "3.7.3"
  }
 },
 "nbformat": 4,
 "nbformat_minor": 2
}
